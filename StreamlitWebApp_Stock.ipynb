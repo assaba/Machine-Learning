{
 "cells": [
  {
   "cell_type": "markdown",
   "metadata": {},
   "source": [
    "# Steamlit and yfinance tutorial"
   ]
  },
  {
   "cell_type": "code",
   "execution_count": null,
   "metadata": {},
   "outputs": [],
   "source": [
    "#install yfinance: pip install yfinance\n",
    "#run streamlit: streamlit run [filename].py"
   ]
  },
  {
   "cell_type": "code",
   "execution_count": null,
   "metadata": {},
   "outputs": [],
   "source": [
    "#Tutorial on Streamlit Webapp using yfinance API\n",
    "import yfinance as yf\n",
    "import streamlit as st\n",
    "import pandas as pd\n",
    "\n",
    "#streamlit\n",
    "st.write(\"\"\"\n",
    "# Simple Stock Price APP\n",
    "Shown are the stock closing price and volume of Brookfield Renewable Partners (BEP)\n",
    "\"\"\")\n",
    "\n",
    "#define the ticker symbol\n",
    "tickerSymbol='BEP'\n",
    "\n",
    "#get data on this ticker\n",
    "tickerData=yf.Ticker(tickerSymbol)\n",
    "#get historical prices for this ticker\n",
    "tickerDf=tickerData.history(period='Id', start='2020-1-1', end='2020-8-31')\n",
    "\n",
    "#as a result we have open high, low close, volum, dividends, stock splits\n",
    "\n",
    "st.line_chart(tickerDf.Close)\n",
    "st.line_chart(tickerDf.Volume)\n",
    "\n",
    "\n"
   ]
  }
 ],
 "metadata": {
  "kernelspec": {
   "display_name": "Python 3",
   "language": "python",
   "name": "python3"
  },
  "language_info": {
   "codemirror_mode": {
    "name": "ipython",
    "version": 3
   },
   "file_extension": ".py",
   "mimetype": "text/x-python",
   "name": "python",
   "nbconvert_exporter": "python",
   "pygments_lexer": "ipython3",
   "version": "3.7.4"
  }
 },
 "nbformat": 4,
 "nbformat_minor": 2
}
